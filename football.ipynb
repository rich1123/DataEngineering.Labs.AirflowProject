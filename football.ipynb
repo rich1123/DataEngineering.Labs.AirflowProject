{
  "nbformat": 4,
  "nbformat_minor": 0,
  "metadata": {
    "colab": {
      "name": "football.ipynb",
      "provenance": [],
      "collapsed_sections": [],
      "toc_visible": true,
<<
      "include_colab_link": true
    },
    "kernelspec": {
      "name": "python3",
      "display_name": "Python 3"
    }
  },
  "cells": [
    {
      "cell_type": "markdown",
      "metadata": {
        "id": "view-in-github",
        "colab_type": "text"
      },
      "source": [

      ]
    },
    {
      "cell_type": "code",
      "metadata": {
        "id": "cLchLGEKtQTm",
        "colab_type": "code",
        "colab": {}
      },
      "source": [
        "import csv\n",
        "import pandas as pd"
      ],
      "execution_count": 0,
      "outputs": []
    },
    {
      "cell_type": "code",
      "metadata": {
        "id": "0ZlVGg3qvYka",
        "colab_type": "code",

        "colab": {
          "resources": {
            "http://localhost:8080/nbextensions/google.colab/files.js": {
              "data": "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",
              "ok": true,
              "headers": [
                [
                  "content-type",
                  "application/javascript"
                ]
              ],
              "status": 200,
              "status_text": ""
            }
          },
          "base_uri": "https://localhost:8080/",
          "height": 71

      },
      "source": [
        "from google.colab import files\n",
        "uploaded = files.upload()"
      ],

      "outputs": [
        {
          "output_type": "display_data",
          "data": {
            "text/html": [
              "\n",

              "      Upload widget is only available when the cell has been executed in the\n",
              "      current browser session. Please rerun this cell to enable.\n",
              "      </output>\n",
              "      <script src=\"/nbextensions/google.colab/files.js\"></script> "
            ],
            "text/plain": [
              "<IPython.core.display.HTML object>"
            ]
          },
          "metadata": {
            "tags": []
          }
        },
        {
          "output_type": "stream",
          "text": [

          ],
          "name": "stdout"
        }
      ]
    },
    {
      "cell_type": "code",
      "metadata": {
        "id": "zZmjxOuEwfdr",
        "colab_type": "code",
        "colab": {}
      },
      "source": [

      ],
      "execution_count": 0,
      "outputs": []
    },
    {
      "cell_type": "code",
      "metadata": {
        "id": "ZDTM2Tw8uZGR",
        "colab_type": "code",
        "colab": {}
      },
      "source": [
        "rb = pd.read_csv('rb_data (4).csv')"
      ],
      "execution_count": 0,
      "outputs": []
    },
    {
      "cell_type": "code",
      "metadata": {
        "id": "nbCjT1LSDOHZ",
        "colab_type": "code",

      },
      "source": [
        "rb"
      ],
      "outputs": [
        {
          "output_type": "execute_result",
          "data": {
            "text/html": [
              "<div>\n",
              "<style scoped>\n",
              "    .dataframe tbody tr th:only-of-type {\n",
              "        vertical-align: middle;\n",
              "    }\n",
              "\n",
              "    .dataframe tbody tr th {\n",
              "        vertical-align: top;\n",
              "    }\n",
              "\n",
              "    .dataframe thead th {\n",
              "        text-align: right;\n",
              "    }\n",
              "</style>\n",
              "<table border=\"1\" class=\"dataframe\">\n",
              "  <thead>\n",
              "    <tr style=\"text-align: right;\">\n",
              "      <th></th>\n",
              "      <th>Player</th>\n",
              "      <th>Year</th>\n",
              "      <th>Tm</th>\n",
              "      <th>Games</th>\n",
              "      <th>Games Started</th>\n",
              "      <th>Rush Att</th>\n",
              "      <th>Rush Yds</th>\n",
              "      <th>Yards /Att</th>\n",
              "      <th>TD</th>\n",
              "      <th>Yds/Game</th>\n",
              "      <th>Targets</th>\n",
              "      <th>Receptions</th>\n",
              "      <th>Yds</th>\n",
              "      <th>Rec Y/R</th>\n",
              "      <th>Rec TD</th>\n",
              "      <th>Rec Y/G</th>\n",
              "      <th>Rec Ctch%</th>\n",
              "      <th>Rec Y/Tgt</th>\n",
              "    </tr>\n",
              "  </thead>\n",
              "  <tbody>\n",
              "    <tr>\n",
              "      <th>0</th>\n",
              "      <td>T.J. Yeldon</td>\n",
              "      <td>2015</td>\n",
              "      <td>JAX</td>\n",
              "      <td>12</td>\n",
              "      <td>12</td>\n",
              "      <td>182</td>\n",
              "      <td>740</td>\n",
              "      <td>4.07</td>\n",
              "      <td>2</td>\n",
              "      <td>61.7</td>\n",
              "      <td>46</td>\n",
              "      <td>36</td>\n",
              "      <td>279</td>\n",
              "      <td>7.75</td>\n",
              "      <td>1</td>\n",
              "      <td>23.3</td>\n",
              "      <td>78.30%</td>\n",
              "      <td>6.07</td>\n",
              "    </tr>\n",
              "    <tr>\n",
              "      <th>1</th>\n",
              "      <td>DeAngelo Williams</td>\n",
              "      <td>2011</td>\n",
              "      <td>CAR</td>\n",
              "      <td>16</td>\n",
              "      <td>14</td>\n",
              "      <td>155</td>\n",
              "      <td>836</td>\n",
              "      <td>5.39</td>\n",
              "      <td>7</td>\n",
              "      <td>52.3</td>\n",
              "      <td>25</td>\n",
              "      <td>16</td>\n",
              "      <td>135</td>\n",
              "      <td>8.44</td>\n",
              "      <td>0</td>\n",
              "      <td>8.4</td>\n",
              "      <td>64.00%</td>\n",
              "      <td>5.40</td>\n",
              "    </tr>\n",
              "    <tr>\n",
              "      <th>2</th>\n",
              "      <td>DeAngelo Williams</td>\n",
              "      <td>2012</td>\n",
              "      <td>CAR</td>\n",
              "      <td>16</td>\n",
              "      <td>10</td>\n",
              "      <td>173</td>\n",
              "      <td>737</td>\n",
              "      <td>4.26</td>\n",
              "      <td>5</td>\n",
              "      <td>46.1</td>\n",
              "      <td>20</td>\n",
              "      <td>13</td>\n",
              "      <td>187</td>\n",
              "      <td>14.38</td>\n",
              "      <td>2</td>\n",
              "      <td>11.7</td>\n",
              "      <td>65.00%</td>\n",
              "      <td>9.35</td>\n",
              "    </tr>\n",
              "    <tr>\n",
              "      <th>3</th>\n",
              "      <td>DeAngelo Williams</td>\n",
              "      <td>2013</td>\n",
              "      <td>CAR</td>\n",
              "      <td>15</td>\n",
              "      <td>15</td>\n",
              "      <td>201</td>\n",
              "      <td>843</td>\n",
              "      <td>4.19</td>\n",
              "      <td>3</td>\n",
              "      <td>56.2</td>\n",
              "      <td>36</td>\n",
              "      <td>26</td>\n",
              "      <td>333</td>\n",
              "      <td>12.81</td>\n",
              "      <td>1</td>\n",
              "      <td>22.2</td>\n",
              "      <td>72.20%</td>\n",
              "      <td>9.25</td>\n",
              "    </tr>\n",
              "    <tr>\n",
              "      <th>4</th>\n",
              "      <td>DeAngelo Williams</td>\n",
              "      <td>2015</td>\n",
              "      <td>PIT</td>\n",
              "      <td>16</td>\n",
              "      <td>10</td>\n",
              "      <td>200</td>\n",
              "      <td>907</td>\n",
              "      <td>4.54</td>\n",
              "      <td>11</td>\n",
              "      <td>56.7</td>\n",
              "      <td>47</td>\n",
              "      <td>40</td>\n",
              "      <td>367</td>\n",
              "      <td>9.18</td>\n",
              "      <td>0</td>\n",
              "      <td>22.9</td>\n",
              "      <td>85.10%</td>\n",
              "      <td>7.81</td>\n",
              "    </tr>\n",
              "    <tr>\n",
              "      <th>...</th>\n",
              "      <td>...</td>\n",
              "      <td>...</td>\n",
              "      <td>...</td>\n",
              "      <td>...</td>\n",
              "      <td>...</td>\n",
              "      <td>...</td>\n",
              "      <td>...</td>\n",
              "      <td>...</td>\n",
              "      <td>...</td>\n",
              "      <td>...</td>\n",
              "      <td>...</td>\n",
              "      <td>...</td>\n",
              "      <td>...</td>\n",
              "      <td>...</td>\n",
              "      <td>...</td>\n",
              "      <td>...</td>\n",
              "      <td>...</td>\n",
              "      <td>...</td>\n",
              "    </tr>\n",
              "    <tr>\n",
              "      <th>255</th>\n",
              "      <td>C.J. Anderson</td>\n",
              "      <td>2014</td>\n",
              "      <td>DEN</td>\n",
              "      <td>15</td>\n",
              "      <td>7</td>\n",
              "      <td>179</td>\n",
              "      <td>849</td>\n",
              "      <td>4.74</td>\n",
              "      <td>8</td>\n",
              "      <td>56.6</td>\n",
              "      <td>44</td>\n",
              "      <td>34</td>\n",
              "      <td>324</td>\n",
              "      <td>9.53</td>\n",
              "      <td>2</td>\n",
              "      <td>21.6</td>\n",
              "      <td>77.30%</td>\n",
              "      <td>7.36</td>\n",
              "    </tr>\n",
              "    <tr>\n",
              "      <th>256</th>\n",
              "      <td>C.J. Anderson</td>\n",
              "      <td>2015</td>\n",
              "      <td>DEN</td>\n",
              "      <td>15</td>\n",
              "      <td>6</td>\n",
              "      <td>152</td>\n",
              "      <td>720</td>\n",
              "      <td>4.74</td>\n",
              "      <td>5</td>\n",
              "      <td>48.0</td>\n",
              "      <td>36</td>\n",
              "      <td>25</td>\n",
              "      <td>183</td>\n",
              "      <td>7.32</td>\n",
              "      <td>0</td>\n",
              "      <td>12.2</td>\n",
              "      <td>69.40%</td>\n",
              "      <td>5.08</td>\n",
              "    </tr>\n",
              "    <tr>\n",
              "      <th>257</th>\n",
              "      <td>C.J. Anderson</td>\n",
              "      <td>2017</td>\n",
              "      <td>DEN</td>\n",
              "      <td>16</td>\n",
              "      <td>16</td>\n",
              "      <td>245</td>\n",
              "      <td>1007</td>\n",
              "      <td>4.11</td>\n",
              "      <td>3</td>\n",
              "      <td>62.9</td>\n",
              "      <td>40</td>\n",
              "      <td>28</td>\n",
              "      <td>224</td>\n",
              "      <td>8.00</td>\n",
              "      <td>1</td>\n",
              "      <td>14.0</td>\n",
              "      <td>70.00%</td>\n",
              "      <td>5.60</td>\n",
              "    </tr>\n",
              "    <tr>\n",
              "      <th>258</th>\n",
              "      <td>Jay Ajayi</td>\n",
              "      <td>2016</td>\n",
              "      <td>MIA</td>\n",
              "      <td>15</td>\n",
              "      <td>12</td>\n",
              "      <td>260</td>\n",
              "      <td>1272</td>\n",
              "      <td>4.89</td>\n",
              "      <td>8</td>\n",
              "      <td>84.8</td>\n",
              "      <td>35</td>\n",
              "      <td>27</td>\n",
              "      <td>151</td>\n",
              "      <td>5.59</td>\n",
              "      <td>0</td>\n",
              "      <td>10.1</td>\n",
              "      <td>77.10%</td>\n",
              "      <td>4.31</td>\n",
              "    </tr>\n",
              "    <tr>\n",
              "      <th>259</th>\n",
              "      <td>Jay Ajayi</td>\n",
              "      <td>2017</td>\n",
              "      <td>2TM</td>\n",
              "      <td>14</td>\n",
              "      <td>8</td>\n",
              "      <td>208</td>\n",
              "      <td>873</td>\n",
              "      <td>4.20</td>\n",
              "      <td>1</td>\n",
              "      <td>62.4</td>\n",
              "      <td>34</td>\n",
              "      <td>24</td>\n",
              "      <td>158</td>\n",
              "      <td>6.58</td>\n",
              "      <td>1</td>\n",
              "      <td>11.3</td>\n",
              "      <td>70.60%</td>\n",
              "      <td>4.65</td>\n",
              "    </tr>\n",
              "  </tbody>\n",
              "</table>\n",
              "<p>260 rows × 18 columns</p>\n",
              "</div>"
            ],
            "text/plain": [
              "                Player  Year   Tm  Games  ...  Rec TD  Rec Y/G  Rec Ctch%  Rec Y/Tgt\n",
              "0          T.J. Yeldon  2015  JAX     12  ...       1     23.3     78.30%       6.07\n",
              "1    DeAngelo Williams  2011  CAR     16  ...       0      8.4     64.00%       5.40\n",
              "2    DeAngelo Williams  2012  CAR     16  ...       2     11.7     65.00%       9.35\n",
              "3    DeAngelo Williams  2013  CAR     15  ...       1     22.2     72.20%       9.25\n",
              "4    DeAngelo Williams  2015  PIT     16  ...       0     22.9     85.10%       7.81\n",
              "..                 ...   ...  ...    ...  ...     ...      ...        ...        ...\n",
              "255      C.J. Anderson  2014  DEN     15  ...       2     21.6     77.30%       7.36\n",
              "256      C.J. Anderson  2015  DEN     15  ...       0     12.2     69.40%       5.08\n",
              "257      C.J. Anderson  2017  DEN     16  ...       1     14.0     70.00%       5.60\n",
              "258          Jay Ajayi  2016  MIA     15  ...       0     10.1     77.10%       4.31\n",
              "259          Jay Ajayi  2017  2TM     14  ...       1     11.3     70.60%       4.65\n",
              "\n",
              "[260 rows x 18 columns]"
            ]
          },
          "metadata": {
            "tags": []
          },

        }
      ]
    },
    {
      "cell_type": "code",
      "metadata": {
        "colab_type": "code",
        "id": "C_8pykLTwy1m",
        "colab": {}
      },
      "source": [
        "wr = pd.read_csv('wr_data (4).csv')"
      ],
      "execution_count": 0,
      "outputs": []
    },
    {
      "cell_type": "code",
      "metadata": {
        "id": "gUnXJhdyw7Xs",
        "colab_type": "code",
        "colab": {}
      },
      "source": [
        "te = pd.read_csv('TE_data.csv')"
      ],
      "execution_count": 0,
      "outputs": []
    },
    {
      "cell_type": "code",
      "metadata": {
        "id": "VvvPPxkyxCEn",
        "colab_type": "code",
        "colab": {}
      },
      "source": [
        "qb = pd.read_csv('QB_data.csv')"
      ],
      "execution_count": 0,
      "outputs": []
    },
    {
      "cell_type": "code",
      "metadata": {
        "id": "b3rU_hMAxDzV",
        "colab_type": "code",
        "colab": {}
      },
      "source": [
        "new_adp = adp.rename(columns={\"Name\": \"Player\"})"
      ],
      "execution_count": 0,
      "outputs": []
    },
    {
      "cell_type": "code",
      "metadata": {
        "id": "5QSDSfoHAD7Y",
        "colab_type": "code",

      },
      "source": [
        "new_adp"
      ],

      "outputs": [
        {
          "output_type": "execute_result",
          "data": {
            "text/html": [
              "<div>\n",
              "<style scoped>\n",
              "    .dataframe tbody tr th:only-of-type {\n",
              "        vertical-align: middle;\n",
              "    }\n",
              "\n",
              "    .dataframe tbody tr th {\n",
              "        vertical-align: top;\n",
              "    }\n",
              "\n",
              "    .dataframe thead th {\n",
              "        text-align: right;\n",
              "    }\n",
              "</style>\n",
              "<table border=\"1\" class=\"dataframe\">\n",
              "  <thead>\n",
              "    <tr style=\"text-align: right;\">\n",
              "      <th></th>\n",

              "      <th>Pick</th>\n",
              "      <th>Player</th>\n",
              "      <th>Pos</th>\n",
              "      <th>Team</th>\n",
              "      <th>Overall</th>\n",
              "      <th>Std.\\nDev</th>\n",
              "      <th>High</th>\n",
              "      <th>Low</th>\n",
              "    </tr>\n",
              "  </thead>\n",
              "  <tbody>\n",
              "    <tr>\n",
              "      <th>0</th>\n",
              "      <td>2010.0</td>\n",
              "      <td>1.01</td>\n",
              "      <td>Chris Johnson</td>\n",
              "      <td>RB</td>\n",
              "      <td>TEN</td>\n",
              "      <td>1.4</td>\n",
              "      <td>1.3</td>\n",
              "      <td>1.01</td>\n",
              "      <td>2.12</td>\n",
              "    </tr>\n",
              "    <tr>\n",
              "      <th>1</th>\n",
              "      <td>2010.0</td>\n",
              "      <td>1.02</td>\n",
              "      <td>Adrian Peterson</td>\n",
              "      <td>RB</td>\n",
              "      <td>MIN</td>\n",
              "      <td>2.3</td>\n",
              "      <td>1.3</td>\n",
              "      <td>1.01</td>\n",
              "      <td>2.11</td>\n",
              "    </tr>\n",
              "    <tr>\n",
              "      <th>2</th>\n",
              "      <td>2010.0</td>\n",
              "      <td>1.03</td>\n",
              "      <td>Ray Rice</td>\n",
              "      <td>RB</td>\n",
              "      <td>BAL</td>\n",
              "      <td>3.2</td>\n",
              "      <td>1.5</td>\n",
              "      <td>1.01</td>\n",
              "      <td>2.10</td>\n",
              "    </tr>\n",
              "    <tr>\n",
              "      <th>3</th>\n",
              "      <td>2010.0</td>\n",
              "      <td>1.05</td>\n",
              "      <td>Maurice Jones-Drew</td>\n",
              "      <td>RB</td>\n",
              "      <td>JAX</td>\n",
              "      <td>4.7</td>\n",
              "      <td>1.5</td>\n",
              "      <td>1.01</td>\n",
              "      <td>2.09</td>\n",
              "    </tr>\n",
              "    <tr>\n",
              "      <th>4</th>\n",
              "      <td>2010.0</td>\n",
              "      <td>1.05</td>\n",
              "      <td>Andre Johnson</td>\n",
              "      <td>WR</td>\n",
              "      <td>HOU</td>\n",
              "      <td>4.8</td>\n",
              "      <td>2.6</td>\n",
              "      <td>1.01</td>\n",
              "      <td>5.01</td>\n",
              "    </tr>\n",
              "    <tr>\n",
              "      <th>...</th>\n",
              "      <td>...</td>\n",
              "      <td>...</td>\n",
              "      <td>...</td>\n",
              "      <td>...</td>\n",
              "      <td>...</td>\n",
              "      <td>...</td>\n",
              "      <td>...</td>\n",
              "      <td>...</td>\n",
              "      <td>...</td>\n",
              "    </tr>\n",
              "    <tr>\n",
              "      <th>988</th>\n",
              "      <td>2019.0</td>\n",
              "      <td>8.09</td>\n",
              "      <td>Darrell Henderson</td>\n",
              "      <td>RB</td>\n",
              "      <td>LAR</td>\n",
              "      <td>93.0</td>\n",
              "      <td>9.2</td>\n",
              "      <td>6.01</td>\n",
              "      <td>9.12</td>\n",
              "    </tr>\n",
              "    <tr>\n",
              "      <th>989</th>\n",
              "      <td>2019.0</td>\n",
              "      <td>8.10</td>\n",
              "      <td>Cam Newton</td>\n",
              "      <td>QB</td>\n",
              "      <td>CAR</td>\n",
              "      <td>94.4</td>\n",
              "      <td>9.9</td>\n",
              "      <td>2.12</td>\n",
              "      <td>10.07</td>\n",
              "    </tr>\n",
              "    <tr>\n",
              "      <th>990</th>\n",
              "      <td>2019.0</td>\n",
              "      <td>8.11</td>\n",
              "      <td>Rashaad Penny</td>\n",
              "      <td>RB</td>\n",
              "      <td>SEA</td>\n",
              "      <td>95.3</td>\n",
              "      <td>7.8</td>\n",
              "      <td>5.03</td>\n",
              "      <td>10.03</td>\n",
              "    </tr>\n",
              "    <tr>\n",
              "      <th>991</th>\n",
              "      <td>2019.0</td>\n",
              "      <td>8.11</td>\n",
              "      <td>Austin Hooper</td>\n",
              "      <td>TE</td>\n",
              "      <td>ATL</td>\n",
              "      <td>95.4</td>\n",
              "      <td>13.3</td>\n",
              "      <td>5.05</td>\n",
              "      <td>11.11</td>\n",
              "    </tr>\n",
              "    <tr>\n",
              "      <th>992</th>\n",
              "      <td>2019.0</td>\n",
              "      <td>8.12</td>\n",
              "      <td>Sammy Watkins</td>\n",
              "      <td>WR</td>\n",
              "      <td>KC</td>\n",
              "      <td>96.1</td>\n",
              "      <td>8.0</td>\n",
              "      <td>6.03</td>\n",
              "      <td>10.05</td>\n",
              "    </tr>\n",
              "  </tbody>\n",
              "</table>\n",
              "<p>993 rows × 9 columns</p>\n",
              "</div>"
            ],
            "text/plain": [

              "0    2010.0  1.01       Chris Johnson  RB  TEN      1.4        1.3  1.01   2.12\n",
              "1    2010.0  1.02     Adrian Peterson  RB  MIN      2.3        1.3  1.01   2.11\n",
              "2    2010.0  1.03            Ray Rice  RB  BAL      3.2        1.5  1.01   2.10\n",
              "3    2010.0  1.05  Maurice Jones-Drew  RB  JAX      4.7        1.5  1.01   2.09\n",
              "4    2010.0  1.05       Andre Johnson  WR  HOU      4.8        2.6  1.01   5.01\n",
              "..      ...   ...                 ...  ..  ...      ...        ...   ...    ...\n",
              "988  2019.0  8.09   Darrell Henderson  RB  LAR     93.0        9.2  6.01   9.12\n",
              "989  2019.0  8.10          Cam Newton  QB  CAR     94.4        9.9  2.12  10.07\n",
              "990  2019.0  8.11       Rashaad Penny  RB  SEA     95.3        7.8  5.03  10.03\n",
              "991  2019.0  8.11       Austin Hooper  TE  ATL     95.4       13.3  5.05  11.11\n",
              "992  2019.0  8.12       Sammy Watkins  WR   KC     96.1        8.0  6.03  10.05\n",
              "\n",
              "[993 rows x 9 columns]"
            ]
          },
          "metadata": {
            "tags": []
          },

        }
      ]
    },
    {
      "cell_type": "code",
      "metadata": {
        "id": "aEKq7NMV2DGU",
        "colab_type": "code",
        "colab": {}
      },
      "source": [
        "# rb_adp = rb.join(new_adp, lsuffix='Player', rsuffix='Year')\n",
        "frames = [rb, new_adp]"
      ],
      "execution_count": 0,
      "outputs": []
    },
    {
      "cell_type": "code",
      "metadata": {
        "id": "9zB-oe-X2JM3",
        "colab_type": "code",
        "colab": {}
      },
      "source": [

      ],
      "execution_count": 0,
      "outputs": []
    },
    {
      "cell_type": "code",
      "metadata": {
        "id": "SoxUsJlC4KCf",
        "colab_type": "code",

      "outputs": [
        {
          "output_type": "execute_result",
          "data": {
            "text/html": [
              "<div>\n",
              "<style scoped>\n",
              "    .dataframe tbody tr th:only-of-type {\n",
              "        vertical-align: middle;\n",
              "    }\n",
              "\n",
              "    .dataframe tbody tr th {\n",
              "        vertical-align: top;\n",
              "    }\n",
              "\n",
              "    .dataframe thead th {\n",
              "        text-align: right;\n",
              "    }\n",
              "</style>\n",
              "<table border=\"1\" class=\"dataframe\">\n",
              "  <thead>\n",
              "    <tr style=\"text-align: right;\">\n",
              "      <th></th>\n",
              "      <th>Player</th>\n",
              "      <th>Year</th>\n",
              "      <th>Tm</th>\n",
              "      <th>Games</th>\n",
              "      <th>Games Started</th>\n",
              "      <th>Rush Att</th>\n",
              "      <th>Rush Yds</th>\n",
              "      <th>Yards /Att</th>\n",
              "      <th>TD</th>\n",
              "      <th>Yds/Game</th>\n",
              "      <th>Targets</th>\n",
              "      <th>Receptions</th>\n",
              "      <th>Yds</th>\n",
              "      <th>Rec Y/R</th>\n",
              "      <th>Rec TD</th>\n",
              "      <th>Rec Y/G</th>\n",
              "      <th>Rec Ctch%</th>\n",
              "      <th>Rec Y/Tgt</th>\n",

              "      <th>Pick</th>\n",
              "      <th>Pos</th>\n",
              "      <th>Team</th>\n",
              "      <th>Overall</th>\n",
              "      <th>Std.\\nDev</th>\n",
              "      <th>High</th>\n",
              "      <th>Low</th>\n",
              "    </tr>\n",
              "  </thead>\n",
              "  <tbody>\n",
              "    <tr>\n",
              "      <th>0</th>\n",

            ]
          },
          "metadata": {
            "tags": []
          },

        }
      ]
    },
    {
      "cell_type": "code",
      "metadata": {
        "id": "atIDdraN_9TS",
        "colab_type": "code",

        }
      ]
    },
    {
      "cell_type": "code",
      "metadata": {

        "colab_type": "code",
        "colab": {}
      },
      "source": [
        ""
      ],
      "execution_count": 0,
      "outputs": []
    }
  ]
}